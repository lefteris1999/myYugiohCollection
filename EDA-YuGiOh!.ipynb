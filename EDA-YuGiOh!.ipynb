{
 "cells": [
  {
   "cell_type": "markdown",
   "id": "7bd00477",
   "metadata": {},
   "source": [
    "# Exploring my Yu-Gi-Oh! Collection"
   ]
  },
  {
   "cell_type": "markdown",
   "id": "407e1150",
   "metadata": {},
   "source": [
    "EDA to explore my card collection and find interesting facts/statistics about my collection"
   ]
  },
  {
   "cell_type": "code",
   "execution_count": 1,
   "id": "d0e457bd",
   "metadata": {},
   "outputs": [],
   "source": [
    "#Libraries\n",
    "import pandas as pd\n",
    "import numpy as np\n",
    "import matplotlib.pyplot as plt\n",
    "import seaborn as sn\n",
    "import os\n",
    "import glob"
   ]
  },
  {
   "cell_type": "markdown",
   "id": "9a9a7f42",
   "metadata": {},
   "source": [
    "My database contains information about each card that I have in my collection, such as \"Name\", \"Attribute\", \"Type\", \"Card"
   ]
  },
  {
   "cell_type": "code",
   "execution_count": 28,
   "id": "0abf3e51",
   "metadata": {},
   "outputs": [
    {
     "name": "stdout",
     "output_type": "stream",
     "text": [
      "The columns of Binders df are: \n",
      " Index(['Name', 'Attribute', 'Type',\n",
      "       'Card_Type (Normal/Effect/Ritual/Fusion/Synchro/XYZ/Pendulum/Link)',\n",
      "       'ATK', 'DEF', 'Rarity', 'Count', 'Link', 'Level/Rank', 'Pendulum Scale',\n",
      "       'Set', 'Comments', 'Tuner/Flip/Gemini/Toon', 'Price £', 'EDITION',\n",
      "       'Binder', 'Binder2'],\n",
      "      dtype='object'), total: 18 \n",
      "\n",
      "The columns of Misc - Structure Decks df are: \n",
      " Index(['Name', 'Attribute', 'Type', 'Card_Type', 'ATK', 'DEF', 'Rarity',\n",
      "       'Count', 'Link', 'Level/Rank', 'Pendulum Scale', 'Set', 'Comments',\n",
      "       'Tuner/Flip/Gemini', 'Price £', 'EDITION'],\n",
      "      dtype='object'), total: 16 \n",
      "\n",
      "The columns of Misc df are: \n",
      " Index(['Name', 'Attribute', 'Type', 'Card_Type', 'ATK', 'DEF', 'Rarity',\n",
      "       'Count', 'Link', 'Level/Rank', 'Pendulum Scale', 'Set', 'Comments',\n",
      "       'Tuner/Flip/Gemini/Spirit', 'Price £', 'EDITION'],\n",
      "      dtype='object'), total: 16 \n",
      "\n",
      "The columns of Commons-Rares Binder df are: \n",
      " Index(['Name', 'Attribute', 'Type', 'Card_Type', 'ATK', 'DEF', 'Rarity',\n",
      "       'Count', 'Link', 'Level/Rank', 'Pendulum Scale', 'Set', 'Comments',\n",
      "       'Tuner/Flip/Gemini', 'Price £', 'EDITION'],\n",
      "      dtype='object'), total: 16 \n",
      "\n",
      "The columns of For Sale-Trade df are: \n",
      " Index(['Name', 'Attribute', 'Type', 'Card_Type', 'ATK', 'DEF', 'Rarity',\n",
      "       'Count', 'Link', 'Level/Rank', 'Pendulum Scale', 'Set', 'Comments',\n",
      "       'Tuner/Flip/Gemini/Spirit', 'Price £', 'EDITION', 'SOLD OUT'],\n",
      "      dtype='object'), total: 17 \n",
      "\n"
     ]
    }
   ],
   "source": [
    "#load data\n",
    "\n",
    "ygo = pd.read_excel(\".\\data\\Ygo!.xlsx\", sheet_name=['Binders', 'Misc - Structure Decks', 'Misc', 'Commons-Rares Binder'])\n",
    "sell_ygo = pd.read_excel(\".\\data\\Sell_Ygo!.xlsx\", sheet_name=['For Sale-Trade'])\n",
    "\n",
    "#assign each sheet to a unique dataframe\n",
    "binder_df = ygo[\"Binders\"]\n",
    "sdecks_df = ygo[\"Misc - Structure Decks\"]\n",
    "misc_df = ygo[\"Misc\"]\n",
    "commRares_df = ygo[\"Commons-Rares Binder\"]\n",
    "\n",
    "sell_df = sell_ygo[\"For Sale-Trade\"]\n",
    "\n",
    "#explore the columns of each df\n",
    "for sheet in ygo:\n",
    "    print(f\"The columns of {sheet} df are: \\n {ygo[sheet].columns}, total: {len(ygo[sheet].columns)} \\n\")\n",
    "    \n",
    "for sheet in sell_ygo:\n",
    "    print(f\"The columns of {sheet} df are: \\n {sell_ygo[sheet].columns}, total: {len(sell_ygo[sheet].columns)} \\n\")"
   ]
  },
  {
   "cell_type": "code",
   "execution_count": null,
   "id": "1e8bbd35",
   "metadata": {},
   "outputs": [],
   "source": [
    "cols = [\"Name\",\"Rarity\",\"Set\",\"EDITION\"] #for now we will focus on these 4 columns\n",
    "\n",
    "binder_df = ygo[\"Binders\"].loc[:, cols]\n",
    "sdecks_df = ygo[\"Misc - Structure Decks\"].loc[:, cols]\n",
    "misc_df = ygo[\"Misc\"].loc[:, cols]\n",
    "commRares_df = ygo[\"Commons-Rares Binder\"].loc[:, cols]\n",
    "\n",
    "sell_df = sell_ygo[\"For Sale-Trade\"].loc[:, cols]"
   ]
  },
  {
   "cell_type": "code",
   "execution_count": 12,
   "id": "a89857c2",
   "metadata": {},
   "outputs": [
    {
     "name": "stdout",
     "output_type": "stream",
     "text": [
      "The size of the binder df is: (702, 4)\n",
      "The size of the structure decks df is: (19, 4)\n",
      "The size of the misc df is: (191, 4)\n",
      "The size of the commRares df is: (39, 4)\n",
      "The size of the sell df is: (158, 4)\n"
     ]
    }
   ],
   "source": [
    "#Explore size of each df\n",
    "\n",
    "print(\"The size of the binder df is:\", binder_df.shape)\n",
    "print(\"The size of the structure decks df is:\", sdecks_df.shape)\n",
    "print(\"The size of the misc df is:\", misc_df.shape)\n",
    "print(\"The size of the commRares df is:\", commRares_df.shape)\n",
    "\n",
    "print(\"The size of the sell df is:\", sell_df.shape)"
   ]
  },
  {
   "cell_type": "code",
   "execution_count": null,
   "id": "574adac5",
   "metadata": {},
   "outputs": [],
   "source": []
  }
 ],
 "metadata": {
  "kernelspec": {
   "display_name": "Python 3 (ipykernel)",
   "language": "python",
   "name": "python3"
  },
  "language_info": {
   "codemirror_mode": {
    "name": "ipython",
    "version": 3
   },
   "file_extension": ".py",
   "mimetype": "text/x-python",
   "name": "python",
   "nbconvert_exporter": "python",
   "pygments_lexer": "ipython3",
   "version": "3.9.12"
  }
 },
 "nbformat": 4,
 "nbformat_minor": 5
}
